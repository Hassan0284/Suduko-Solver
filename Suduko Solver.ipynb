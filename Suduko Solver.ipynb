{
 "cells": [
  {
   "cell_type": "code",
   "execution_count": 3,
   "id": "041c01f5",
   "metadata": {},
   "outputs": [],
   "source": [
    "import random"
   ]
  },
  {
   "cell_type": "markdown",
   "id": "8611382a",
   "metadata": {},
   "source": [
    "# Create Valid Grid"
   ]
  },
  {
   "cell_type": "code",
   "execution_count": 4,
   "id": "e0429bef",
   "metadata": {},
   "outputs": [
    {
     "data": {
      "text/plain": [
       "[[0, 0, 0, 0, 6, 4, 0, 0, 0],\n",
       " [0, 6, 4, 9, 0, 0, 0, 0, 0],\n",
       " [0, 0, 2, 0, 0, 0, 9, 0, 0],\n",
       " [0, 0, 5, 0, 4, 6, 0, 1, 0],\n",
       " [8, 0, 0, 7, 9, 0, 2, 0, 0],\n",
       " [0, 0, 0, 0, 0, 0, 7, 9, 5],\n",
       " [6, 0, 9, 4, 5, 0, 0, 0, 1],\n",
       " [0, 5, 7, 6, 8, 9, 0, 0, 3],\n",
       " [0, 0, 0, 3, 0, 0, 0, 5, 9]]"
      ]
     },
     "execution_count": 4,
     "metadata": {},
     "output_type": "execute_result"
    }
   ],
   "source": [
    "def validInput(num,grid, row, col):\n",
    "    subGrid=getSubGrid(grid,row,col)\n",
    "    if num in subGrid:\n",
    "        return False  \n",
    "    if num in grid[row]:\n",
    "        return False\n",
    "    for i in range(9):\n",
    "        if grid[i][col] == num:\n",
    "            return False\n",
    "    return True\n",
    "\n",
    "def createGrid():\n",
    "    grid = [[0 for _ in range(9)] for _ in range(9)]\n",
    "    nums = [1, 2, 3, 4, 5, 6, 7, 8, 9]\n",
    "    random.shuffle(nums)\n",
    "    for row in range(9):\n",
    "        for col in range(9):\n",
    "            for num in nums:\n",
    "                if validInput(num,grid, row, col):\n",
    "                    grid[row][col] = num\n",
    "                    break\n",
    "    for row in range(9):\n",
    "        for col in range(9):\n",
    "            if random.random()<0.4:  #creating empty spaces i.e., 0 with probablity \n",
    "                grid[row][col]=0\n",
    "    return grid\n",
    "\n",
    "def getZeroIndex(grid):\n",
    "    for row in range(9):\n",
    "        for col in range(9):\n",
    "            if grid[row][col] == 0:\n",
    "                return row, col\n",
    "    return None, None\n",
    "\n",
    "def possibleEntry(grid, row, col, num):\n",
    "    for i in range(9):\n",
    "        if grid[row][i] == num:# check in row\n",
    "            return False\n",
    "    for i in range(9):\n",
    "        if grid[i][col] == num:# check in column\n",
    "            return False\n",
    "    subGrid=getSubGrid(grid,row,col)\n",
    "    if num in subGrid:\n",
    "        return False     \n",
    "    return True\n",
    "\n",
    "def getSolution(grid,counter):\n",
    "    row, col = getZeroIndex(grid)\n",
    "    if row is None:\n",
    "        return grid,[\"Entries Corrected: \",counter]\n",
    "    for num in range(1, 10):\n",
    "        if possibleEntry(grid, row, col, num):\n",
    "            grid[row][col] = num\n",
    "            if getSolution(grid,counter=counter+1):\n",
    "                return grid,[\"Entries Corrected: \",counter]\n",
    "            grid[row][col] = 0\n",
    "    return False      #\"Can't be solved\" not solve able puzzle\n",
    "\n",
    "def getSubGrid(grid,row,col):\n",
    "    subGridRow = (row // 3) * 3\n",
    "    subGridCol = (col // 3) * 3\n",
    "    subGrid=list()\n",
    "    for i in range(subGridRow, subGridRow + 3):\n",
    "        for j in range(subGridCol, subGridCol + 3):\n",
    "            subGrid.append(grid[i][j])\n",
    "    return subGrid\n",
    "\n",
    "def getSolveableGrid():\n",
    "    while True:\n",
    "        Grid = createGrid()\n",
    "        GridCopy = [row[:] for row in Grid]  \n",
    "        if getSolution(Grid,counter=0) != False:\n",
    "            return GridCopy\n",
    "\n",
    "grid=getSolveableGrid()\n",
    "grid"
   ]
  },
  {
   "cell_type": "markdown",
   "id": "f5fe29a1",
   "metadata": {},
   "source": [
    "# Check Functions"
   ]
  },
  {
   "cell_type": "code",
   "execution_count": 5,
   "id": "cb9fe228",
   "metadata": {},
   "outputs": [
    {
     "name": "stdout",
     "output_type": "stream",
     "text": [
      "Description of randomly generated grid: \n",
      "Number of invalid rows:  9\n",
      "Number of invalid columns:  9\n",
      "Number of invalid subGrids:  9\n",
      "\n",
      "Description of grid1 in this cell at the start: \n",
      "Number of invalid rows:  7\n",
      "Number of invalid columns:  8\n",
      "Number of invalid subGrids:  6\n"
     ]
    }
   ],
   "source": [
    "grid1 = [[2, 5, 8, 6, 3, 4, 9, 7, 1],\n",
    "    [7, 1, 6, 0, 0, 4, 0, 0, 0],\n",
    "\t[4, 3, 9, 0, 0, 0, 2, 0, 8],\n",
    "\t[9, 4, 5, 2, 3, 8, 6, 7, 1],\n",
    "\t[0, 0, 7, 4, 9, 5, 1, 0, 0],    # 2 rows, 1 column and 3 subgrids are valid\n",
    "\t[0, 4, 2, 1, 7, 6, 0, 0, 0],\n",
    "\t[0, 0, 4, 3, 6, 0, 8, 7, 2],\n",
    "\t[0, 7, 1, 0, 0, 0, 9, 5, 3],\n",
    "\t[9, 0, 3, 0, 0, 0, 6, 1, 4]]\n",
    "\n",
    "def checkRow(grid):\n",
    "    oneToNine=set([1,2,3,4,5,6,7,8,9])\n",
    "    counter=int(0)\n",
    "    for row in grid:\n",
    "        if set(row) != oneToNine:\n",
    "            counter=counter+1\n",
    "    return counter\n",
    "\n",
    "def transposedGrid(grid):\n",
    "    grid2 = [[0 for _ in range(9)] for _ in range(9)]\n",
    "    for i in range(9):\n",
    "        for j in range(9):\n",
    "            grid2[i][j]=grid[j][i]\n",
    "    return grid2\n",
    "\n",
    "def checkColumn(grid):\n",
    "    grid2=transposedGrid(grid)\n",
    "    return checkRow(grid2)\n",
    "\n",
    "def checkSubGrids(grid):\n",
    "    counter = int(0)\n",
    "    oneToNine=set([1,2,3,4,5,6,7,8,9])\n",
    "    for subGridRow in range(0, 9, 3):\n",
    "        for subGridCol in range(0, 9, 3):\n",
    "#             print(subGridRow,subGridCol)\n",
    "            toCheck = set()\n",
    "            for row in range(subGridRow, subGridRow + 3):\n",
    "                for col in range(subGridCol, subGridCol + 3):\n",
    "                    currentEntry = grid[row][col]\n",
    "                    if currentEntry != 0:\n",
    "                        toCheck.add(currentEntry)\n",
    "            if toCheck != oneToNine:\n",
    "                counter += 1\n",
    "    return counter\n",
    "\n",
    "def checkGrid(grid):\n",
    "    print(\"Number of invalid rows: \",checkRow(grid))\n",
    "    print(\"Number of invalid columns: \",checkColumn(grid))\n",
    "    print(\"Number of invalid subGrids: \",checkSubGrids(grid))\n",
    "    return\n",
    "\n",
    "print(\"Description of randomly generated grid: \")\n",
    "checkGrid(grid)\n",
    "\n",
    "print()\n",
    "\n",
    "print(\"Description of grid1 in this cell at the start: \")\n",
    "checkGrid(grid1)"
   ]
  },
  {
   "cell_type": "markdown",
   "id": "4299e213",
   "metadata": {},
   "source": [
    "# Solving suduko"
   ]
  },
  {
   "cell_type": "code",
   "execution_count": 6,
   "id": "c4229342",
   "metadata": {},
   "outputs": [
    {
     "data": {
      "text/plain": [
       "([[1, 8, 9, 5, 2, 3, 6, 4, 7],\n",
       "  [2, 7, 5, 4, 6, 9, 1, 8, 3],\n",
       "  [4, 6, 3, 8, 1, 7, 5, 9, 2],\n",
       "  [5, 1, 2, 3, 8, 6, 9, 7, 4],\n",
       "  [7, 3, 4, 1, 9, 2, 8, 5, 6],\n",
       "  [6, 9, 8, 7, 5, 4, 3, 2, 1],\n",
       "  [3, 2, 1, 9, 4, 5, 7, 6, 8],\n",
       "  [8, 5, 6, 2, 7, 1, 4, 3, 9],\n",
       "  [9, 4, 7, 6, 3, 8, 2, 1, 5]],\n",
       " ['Entries Corrected: ', 0])"
      ]
     },
     "execution_count": 6,
     "metadata": {},
     "output_type": "execute_result"
    }
   ],
   "source": [
    "# grid=[[0, 8, 0, 2, 1, 0, 0, 9, 4],\n",
    "#  [2, 1, 7, 6, 0, 0, 0, 0, 0],\n",
    "#  [0, 9, 4, 0, 0, 0, 0, 0, 0],\n",
    "#  [0, 0, 0, 5, 0, 0, 9, 3, 0],\n",
    "#  [0, 0, 1, 8, 6, 2, 4, 0, 0],   #not solve able suduko puzzle\n",
    "#  [9, 0, 0, 4, 0, 0, 0, 6, 2],\n",
    "#  [0, 5, 6, 7, 0, 0, 0, 4, 0],\n",
    "#  [0, 2, 8, 0, 0, 6, 0, 0, 9],\n",
    "#  [0, 0, 3, 0, 0, 0, 5, 2, 6]]\n",
    "\n",
    "grid = [\n",
    "[0, 0, 9, 0, 0, 3, 0, 0, 0],\n",
    "[2, 7, 0, 0, 0, 0, 0, 0, 0],\n",
    "[0, 6, 0, 8, 0, 0, 5, 0, 0],\n",
    "[5, 0, 0, 0, 0, 0, 9, 0, 0],\n",
    "[0, 0, 4, 0, 0, 0, 8, 0, 0],    # solve able suduko\n",
    "[0, 0, 8, 0, 0, 0, 0, 0, 1],\n",
    "[0, 0, 0, 0, 4, 0, 7, 6, 0],\n",
    "[0, 0, 0, 2, 0, 0, 0, 3, 9],\n",
    "[0, 0, 0, 0, 0, 0, 0, 1, 0]\n",
    "]\n",
    "\n",
    "getSolution(grid,0)"
   ]
  },
  {
   "cell_type": "code",
   "execution_count": 7,
   "id": "6f49418d",
   "metadata": {},
   "outputs": [],
   "source": [
    "############################################### tried without backTracking #####################################################\n",
    "\n",
    "# grid = [[3, 5, 0, 0, 0, 6, 2, 0, 4],\n",
    "#  [8, 9, 0, 3, 0, 1, 0, 0, 0],\n",
    "#  [2, 7, 4, 0, 0, 0, 3, 5, 1],\n",
    "#  [5, 3, 8, 1, 0, 9, 7, 2, 0],\n",
    "#  [1, 6, 9, 5, 3, 8, 0, 0, 0],\n",
    "#  [7, 2, 0, 4, 0, 0, 0, 3, 8],\n",
    "#  [9, 0, 3, 0, 0, 5, 0, 4, 2],\n",
    "#  [6, 8, 5, 9, 1, 3, 0, 0, 7],\n",
    "#  [0, 0, 2, 7, 0, 0, 1, 0, 0]]\n",
    "\n",
    "# grid2=transposedGrid(grid)\n",
    "# oneToNine=set([1,2,3,4,5,6,7,8,9])\n",
    "# for row in range(9):\n",
    "#     currentRow=set(grid[row])\n",
    "#     for col in range(9):\n",
    "#         currentColumn=set(grid[i][col] for i in range(9))\n",
    "#         currentSubGrid=set(getSubGrid(grid,row,col))\n",
    "#         if grid[row][col] == 0:\n",
    "#             toBeFilledHere=oneToNine-currentRow-currentColumn-currentSubGrid\n",
    "#             print(toBeFilledHere)\n",
    "#             if len(toBeFilledHere)!=0:\n",
    "#                 entries=list(toBeFilledHere)\n",
    "#                 grid[row][col]=entries[0]\n",
    "#         toBeFilledHere.discard(entries[0])\n",
    "# grid"
   ]
  },
  {
   "cell_type": "markdown",
   "id": "5852d105",
   "metadata": {},
   "source": [
    "---\n",
    "\n",
    "**Note:** I have tried my best to provide accurate results in this notebook. However, these results may not be entirely accurate, and contributions or corrections are encouraged. Thank you!\n"
   ]
  }
 ],
 "metadata": {
  "kernelspec": {
   "display_name": "Python 3 (ipykernel)",
   "language": "python",
   "name": "python3"
  },
  "language_info": {
   "codemirror_mode": {
    "name": "ipython",
    "version": 3
   },
   "file_extension": ".py",
   "mimetype": "text/x-python",
   "name": "python",
   "nbconvert_exporter": "python",
   "pygments_lexer": "ipython3",
   "version": "3.9.12"
  }
 },
 "nbformat": 4,
 "nbformat_minor": 5
}
